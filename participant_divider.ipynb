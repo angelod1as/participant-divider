{
 "cells": [
  {
   "cell_type": "markdown",
   "metadata": {},
   "source": [
    "# Separating participants into groups\n",
    "\n",
    "Simple script that builds a sheet in an excel file.\n",
    "\n",
    "## Usage\n",
    "\n",
    "In a camp participant's spreadsheet, this script takes the paying and confirmed participants and separates them into groups by age."
   ]
  },
  {
   "cell_type": "markdown",
   "metadata": {},
   "source": [
    "Then, read the files in the `source` folder — the script gets the first `xlsx` it finds."
   ]
  },
  {
   "cell_type": "code",
   "execution_count": 1,
   "metadata": {},
   "outputs": [],
   "source": [
    "from pathlib import Path\n",
    "\n",
    "file_folder = Path(\"./source\")\n",
    "\n",
    "\n",
    "def find_first_xlsx():\n",
    "    for filename in file_folder.glob(\"*.xlsx\"):\n",
    "        if \"xlsx\" in str(filename):\n",
    "            return Path(filename)"
   ]
  },
  {
   "cell_type": "markdown",
   "metadata": {},
   "source": [
    "Turns the sheet into a dataframe and sets the phone as string (to avoid confusion with numbers and zeroes)"
   ]
  },
  {
   "cell_type": "code",
   "execution_count": 2,
   "metadata": {},
   "outputs": [],
   "source": [
    "import pandas as pd\n",
    "\n",
    "path = find_first_xlsx()\n",
    "\n",
    "df = pd.read_excel(\n",
    "    path,\n",
    "    sheet_name=\"LISTA DE PAGANTES (FINANCEIRA)\",\n",
    "    header=9,\n",
    ")"
   ]
  },
  {
   "cell_type": "markdown",
   "metadata": {},
   "source": [
    "Turns `Desistente` and `Pago` into booleans"
   ]
  },
  {
   "cell_type": "code",
   "execution_count": 3,
   "metadata": {},
   "outputs": [],
   "source": [
    "df[\"Desistente\"] = df[\"Desistente\"] != \"NÃO\"\n",
    "df[\"Pago?\"] = df[\"Pago?\"] == \"PAGANTE\""
   ]
  },
  {
   "cell_type": "markdown",
   "metadata": {},
   "source": [
    "Filters out team members — leaving only participants"
   ]
  },
  {
   "cell_type": "code",
   "execution_count": 4,
   "metadata": {},
   "outputs": [],
   "source": [
    "df = df[df[\"Será Acampante ou Equipe?\"] == \"Sou participante (acampante)\"]"
   ]
  },
  {
   "cell_type": "markdown",
   "metadata": {},
   "source": [
    "Filters out non-paying and dropouts"
   ]
  },
  {
   "cell_type": "code",
   "execution_count": 5,
   "metadata": {},
   "outputs": [],
   "source": [
    "df = df[df[\"Pago?\"]]\n",
    "df = df[~df[\"Desistente\"]]"
   ]
  },
  {
   "cell_type": "markdown",
   "metadata": {},
   "source": [
    "Remove useless columns"
   ]
  },
  {
   "cell_type": "code",
   "execution_count": 6,
   "metadata": {},
   "outputs": [],
   "source": [
    "df.drop(\n",
    "    columns=[\n",
    "        'Telefone para contato (Ex: 11XXXXXXXXX sem traço \"-\" e sem pontos \".\")',\n",
    "        \"Pago?\",\n",
    "        \"Desistente\",\n",
    "    ],\n",
    "    inplace=True,\n",
    ")"
   ]
  },
  {
   "cell_type": "markdown",
   "metadata": {},
   "source": [
    "Order by age and gender"
   ]
  },
  {
   "cell_type": "code",
   "execution_count": 7,
   "metadata": {},
   "outputs": [],
   "source": [
    "df.sort_values([\"Idade\"], ascending=[True], inplace=True)"
   ]
  },
  {
   "cell_type": "markdown",
   "metadata": {},
   "source": [
    "Create new column and add group using **round-robyn**"
   ]
  },
  {
   "cell_type": "code",
   "execution_count": 8,
   "metadata": {},
   "outputs": [],
   "source": [
    "df[\"Grupo\"] = 0\n",
    "\n",
    "for i, index in enumerate(df.index):\n",
    "    df.loc[index, \"Grupo\"] = (i % 6) + 1"
   ]
  },
  {
   "cell_type": "markdown",
   "metadata": {},
   "source": [
    "Prepare new filename"
   ]
  },
  {
   "cell_type": "code",
   "execution_count": 9,
   "metadata": {},
   "outputs": [],
   "source": [
    "import re\n",
    "\n",
    "pattern = r\"(?<=/)(.*?)(?=\\.xlsx)\"\n",
    "match = re.search(pattern, str(path))\n",
    "\n",
    "if not match:\n",
    "    raise Exception('Wait, is there an xlsx file inside \"source\" folder?')\n",
    "\n",
    "old_name = match.group(0)\n",
    "new_path = re.sub(pattern, f\"{old_name} - COM GRUPOS\", str(path))"
   ]
  },
  {
   "cell_type": "markdown",
   "metadata": {},
   "source": [
    "Write new excel file"
   ]
  },
  {
   "cell_type": "code",
   "execution_count": 10,
   "metadata": {},
   "outputs": [
    {
     "name": "stdout",
     "output_type": "stream",
     "text": [
      "DataFrames written to source/Acampa  2025 - VOCARE (CENTRAL) - COM GRUPOS.xlsx successfully.\n"
     ]
    }
   ],
   "source": [
    "import openpyxl\n",
    "\n",
    "sheet_name = \"Grupos\"\n",
    "\n",
    "\n",
    "workbook = openpyxl.load_workbook(path)\n",
    "\n",
    "if sheet_name in workbook.sheetnames:\n",
    "    sheet = workbook[sheet_name]\n",
    "else:\n",
    "    sheet = workbook.create_sheet(sheet_name)\n",
    "\n",
    "# Clear sheet\n",
    "sheet.delete_rows(1, sheet.max_row)  # Delete all rows if the sheet exists\n",
    "\n",
    "row_index = 1\n",
    "\n",
    "for c, col_name in enumerate(df.columns):  # Write the header\n",
    "    cell = sheet.cell(row=1, column=c + 1)\n",
    "    cell.value = col_name\n",
    "\n",
    "for r in range(df.shape[0]):  # Iterate over rows\n",
    "    for c in range(df.shape[1]):  # Iterate over columns\n",
    "        cell = sheet.cell(\n",
    "            row=r + 2, column=c + 1\n",
    "        )  # +2 to start from the second row (after the header)\n",
    "        cell.value = df.iloc[r, c]  # Write the value\n",
    "\n",
    "\n",
    "workbook.save(new_path)\n",
    "print(f\"DataFrames written to {new_path} successfully.\")"
   ]
  },
  {
   "cell_type": "code",
   "execution_count": null,
   "metadata": {},
   "outputs": [],
   "source": []
  }
 ],
 "metadata": {
  "kernelspec": {
   "display_name": "camp-participant-divider-tiom",
   "language": "python",
   "name": "python3"
  },
  "language_info": {
   "codemirror_mode": {
    "name": "ipython",
    "version": 3
   },
   "file_extension": ".py",
   "mimetype": "text/x-python",
   "name": "python",
   "nbconvert_exporter": "python",
   "pygments_lexer": "ipython3",
   "version": "3.13.0"
  }
 },
 "nbformat": 4,
 "nbformat_minor": 2
}
